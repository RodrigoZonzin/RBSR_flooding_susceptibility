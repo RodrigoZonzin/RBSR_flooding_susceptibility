{
 "cells": [
  {
   "cell_type": "code",
   "execution_count": 15,
   "metadata": {},
   "outputs": [],
   "source": [
    "import numpy as np\n",
    "import tensorflow as tf\n",
    "import rasterio as rio\n",
    "from rasterio.plot import show\n",
    "import matplotlib.pyplot as plt\n"
   ]
  },
  {
   "cell_type": "code",
   "execution_count": 16,
   "metadata": {},
   "outputs": [],
   "source": [
    "bq_lulc = rio.open('../../dados/barbacena_2019.tif').read().astype(float)\n",
    "bq_dem = rio.open('../../dados/barbacena_elevacao.tif').read().astype(float)\n",
    "bq_slope = rio.open('../../dados/slope.tiff').read().astype(float)\n",
    "bq_rivers = rio.open('../../dados/proximity_rivers.tiff').read().astype(float)"
   ]
  },
  {
   "cell_type": "code",
   "execution_count": 17,
   "metadata": {},
   "outputs": [],
   "source": [
    "bq_dem[bq_dem == 0.0] = np.nan\n",
    "bq_lulc[bq_lulc == 0.0] = np.nan"
   ]
  },
  {
   "attachments": {},
   "cell_type": "markdown",
   "metadata": {},
   "source": [
    "## Criando o Modelo \n",
    "\n",
    "$f: LULC \\times DECLIVIDADE \\times TOPOGRAFIA \\times DISTANCIA \\ RIOS \\mapsto M $\n",
    "\n",
    "$M = \\{\\rho : \\rho$  um pixel sucetivel a alagamento $\\}$"
   ]
  },
  {
   "cell_type": "code",
   "execution_count": 7,
   "metadata": {},
   "outputs": [],
   "source": [
    "from tensorflow.keras.layers import Input, Dense\n",
    "from tensorflow.keras.models import Sequential"
   ]
  },
  {
   "cell_type": "code",
   "execution_count": 49,
   "metadata": {},
   "outputs": [],
   "source": [
    "model = Sequential()\n",
    "\n",
    "model.add(Input(shape= (217, 317, 4)))\n",
    "model.add(Dense(100, activation = 'relu'))\n",
    "model.add(Dense(20))\n",
    "model.add(Dense(1, activation = 'softmax'))"
   ]
  },
  {
   "cell_type": "code",
   "execution_count": 50,
   "metadata": {},
   "outputs": [],
   "source": [
    "model.compile(optimizer= 'adam', loss = 'categorical_cross_entropy', metrics= 'acuracy')"
   ]
  },
  {
   "cell_type": "code",
   "execution_count": 51,
   "metadata": {},
   "outputs": [
    {
     "name": "stdout",
     "output_type": "stream",
     "text": [
      "Model: \"sequential_9\"\n",
      "_________________________________________________________________\n",
      " Layer (type)                Output Shape              Param #   \n",
      "=================================================================\n",
      " dense_15 (Dense)            (None, 217, 317, 100)     500       \n",
      "                                                                 \n",
      " dense_16 (Dense)            (None, 217, 317, 20)      2020      \n",
      "                                                                 \n",
      " dense_17 (Dense)            (None, 217, 317, 1)       21        \n",
      "                                                                 \n",
      "=================================================================\n",
      "Total params: 2541 (9.93 KB)\n",
      "Trainable params: 2541 (9.93 KB)\n",
      "Non-trainable params: 0 (0.00 Byte)\n",
      "_________________________________________________________________\n"
     ]
    }
   ],
   "source": [
    "model.summary()"
   ]
  },
  {
   "cell_type": "code",
   "execution_count": 52,
   "metadata": {},
   "outputs": [],
   "source": [
    "dados = np.squeeze(np.array([bq_dem, bq_lulc, bq_rivers, bq_slope]))\n",
    "dados.shape #(4, 217, 317)\n",
    "dados = dados.transpose(1, 2, 0)\n",
    "dados = np.expand_dims(dados, axis=0)\n"
   ]
  },
  {
   "cell_type": "code",
   "execution_count": 53,
   "metadata": {},
   "outputs": [
    {
     "name": "stdout",
     "output_type": "stream",
     "text": [
      "1/1 [==============================] - 0s 186ms/step\n"
     ]
    },
    {
     "name": "stderr",
     "output_type": "stream",
     "text": [
      "2023-10-12 00:09:48.658846: W tensorflow/tsl/framework/cpu_allocator_impl.cc:83] Allocation of 27515600 exceeds 10% of free system memory.\n"
     ]
    }
   ],
   "source": [
    "teste = model.predict(dados)"
   ]
  },
  {
   "cell_type": "code",
   "execution_count": 55,
   "metadata": {},
   "outputs": [],
   "source": [
    "teste = np.squeeze(teste)"
   ]
  },
  {
   "cell_type": "code",
   "execution_count": 56,
   "metadata": {},
   "outputs": [
    {
     "data": {
      "image/png": "[encoded data removed]",
      "text/plain": [
       "<Figure size 640x480 with 1 Axes>"
      ]
     },
     "metadata": {},
     "output_type": "display_data"
    },
    {
     "data": {
      "text/plain": [
       "<AxesSubplot:>"
      ]
     },
     "execution_count": 56,
     "metadata": {},
     "output_type": "execute_result"
    }
   ],
   "source": [
    "show(teste)"
   ]
  }
 ],
 "metadata": {
  "kernelspec": {
   "display_name": "Python 3",
   "language": "python",
   "name": "python3"
  },
  "language_info": {
   "codemirror_mode": {
    "name": "ipython",
    "version": 3
   },
   "file_extension": ".py",
   "mimetype": "text/x-python",
   "name": "python",
   "nbconvert_exporter": "python",
   "pygments_lexer": "ipython3",
   "version": "3.10.12"
  },
  "orig_nbformat": 4
 },
 "nbformat": 4,
 "nbformat_minor": 2
}
